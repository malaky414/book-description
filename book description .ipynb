{
 "cells": [
  {
   "cell_type": "code",
   "execution_count": 8,
   "id": "72d3f660",
   "metadata": {},
   "outputs": [
    {
     "name": "stdout",
     "output_type": "stream",
     "text": [
      "'The Little Prince' by Antoine de Saint-Exupéry, 96 pages.\n"
     ]
    }
   ],
   "source": [
    "class Book:\n",
    "    def __init__(self,title,author,pages):\n",
    "        self.title = title\n",
    "        self.author = author\n",
    "        self.pages = pages\n",
    "    def describe(self):\n",
    "        return f\"'{self.title}' by {self.author}, {self.pages} pages.\"\n",
    "    \n",
    "my_book = Book(\"The Little Prince\", \"Antoine de Saint-Exupéry\", 96)\n",
    "print(my_book.describe())"
   ]
  },
  {
   "cell_type": "code",
   "execution_count": null,
   "id": "52035f41",
   "metadata": {},
   "outputs": [],
   "source": []
  },
  {
   "cell_type": "code",
   "execution_count": null,
   "id": "ae60f04a",
   "metadata": {},
   "outputs": [],
   "source": []
  }
 ],
 "metadata": {
  "kernelspec": {
   "display_name": "Python 3 (ipykernel)",
   "language": "python",
   "name": "python3"
  },
  "language_info": {
   "codemirror_mode": {
    "name": "ipython",
    "version": 3
   },
   "file_extension": ".py",
   "mimetype": "text/x-python",
   "name": "python",
   "nbconvert_exporter": "python",
   "pygments_lexer": "ipython3",
   "version": "3.10.9"
  }
 },
 "nbformat": 4,
 "nbformat_minor": 5
}
